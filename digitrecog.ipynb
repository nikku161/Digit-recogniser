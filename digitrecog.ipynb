{
  "nbformat": 4,
  "nbformat_minor": 0,
  "metadata": {
    "colab": {
      "provenance": []
    },
    "kernelspec": {
      "name": "python3",
      "display_name": "Python 3"
    },
    "language_info": {
      "name": "python"
    }
  },
  "cells": [
    {
      "cell_type": "code",
      "execution_count": 1,
      "metadata": {
        "id": "vOekC0SECx-g"
      },
      "outputs": [],
      "source": [
        "import numpy as np\n",
        "import pandas as pd\n",
        "import matplotlib.pyplot as plt\n",
        "%matplotlib inline\n",
        "import seaborn as sns\n",
        "import keras"
      ]
    },
    {
      "cell_type": "code",
      "source": [
        "# MNIST data can be loaded from the keras library.\n",
        "from keras.datasets import mnist\n",
        "\n",
        "def load_data():\n",
        "  (train_samples,train_labels), (test_samples,test_labels) = mnist.load_data()\n",
        "  return train_samples, train_labels, test_samples, test_labels\n",
        "\n",
        "train_samples, train_labels, test_samples, test_labels = load_data()\n"
      ],
      "metadata": {
        "id": "tIN5lo38C1cr"
      },
      "execution_count": 4,
      "outputs": []
    },
    {
      "cell_type": "code",
      "source": [
        "# check the shape of the data\n",
        "print(train_samples.shape)\n",
        "print(train_labels.shape)\n",
        "print(test_samples.shape)\n",
        "print(test_labels.shape)\n",
        "\n",
        "print(train_labels[0:8])"
      ],
      "metadata": {
        "colab": {
          "base_uri": "https://localhost:8080/"
        },
        "id": "xKg7llM-C4j9",
        "outputId": "0c1696ee-069f-480a-fc38-cc1ac050bc27"
      },
      "execution_count": 5,
      "outputs": [
        {
          "output_type": "stream",
          "name": "stdout",
          "text": [
            "(60000, 28, 28)\n",
            "(60000,)\n",
            "(10000, 28, 28)\n",
            "(10000,)\n",
            "[5 0 4 1 9 2 1 3]\n"
          ]
        }
      ]
    },
    {
      "cell_type": "code",
      "source": [
        "print(np.amax(train_samples))\n",
        "print(np.amin(train_samples))"
      ],
      "metadata": {
        "colab": {
          "base_uri": "https://localhost:8080/"
        },
        "id": "OPpAtswDDotv",
        "outputId": "eb9863ce-bfb0-4b64-e99d-3d78e1fd27f5"
      },
      "execution_count": 6,
      "outputs": [
        {
          "output_type": "stream",
          "name": "stdout",
          "text": [
            "255\n",
            "0\n"
          ]
        }
      ]
    },
    {
      "cell_type": "code",
      "source": [
        "for i in range(0,3):\n",
        "  pixels=train_samples[i]\n",
        "  plt.imshow(pixels, cmap = plt.cm.binary)\n",
        "  plt.show()\n",
        "  print(\"Label of image is\", train_labels[i])"
      ],
      "metadata": {
        "colab": {
          "base_uri": "https://localhost:8080/",
          "height": 1000
        },
        "id": "ZQRKucVgDt_D",
        "outputId": "abd071d4-f947-4d10-e1f8-66db7b9fa573"
      },
      "execution_count": 7,
      "outputs": [
        {
          "output_type": "display_data",
          "data": {
            "text/plain": [
              "<Figure size 640x480 with 1 Axes>"
            ],
            "image/png": "[encoded data removed]"
          },
          "metadata": {}
        },
        {
          "output_type": "stream",
          "name": "stdout",
          "text": [
            "Label of image is 5\n"
          ]
        },
        {
          "output_type": "display_data",
          "data": {
            "text/plain": [
              "<Figure size 640x480 with 1 Axes>"
            ],
            "image/png": "[encoded data removed]"
          },
          "metadata": {}
        },
        {
          "output_type": "stream",
          "name": "stdout",
          "text": [
            "Label of image is 0\n"
          ]
        },
        {
          "output_type": "display_data",
          "data": {
            "text/plain": [
              "<Figure size 640x480 with 1 Axes>"
            ],
            "image/png": "[encoded data removed]"
          },
          "metadata": {}
        },
        {
          "output_type": "stream",
          "name": "stdout",
          "text": [
            "Label of image is 4\n"
          ]
        }
      ]
    },
    {
      "cell_type": "code",
      "source": [
        "def convert_dtype(x):\n",
        "\n",
        "\n",
        "    x_float=x.astype('float32')\n",
        "    return x_float\n",
        "\n",
        "train_samples = convert_dtype(train_samples)\n",
        "test_samples = convert_dtype(test_samples)"
      ],
      "metadata": {
        "id": "0KQ0p0xzDyEU"
      },
      "execution_count": 8,
      "outputs": []
    },
    {
      "cell_type": "code",
      "source": [
        "def normalize(x):\n",
        "  y = (x - np.min(x))/np.ptp(x)   #ptp function is used to find the range\n",
        "  return y\n",
        "\n",
        "train_samples = normalize(train_samples)\n",
        "test_samples = normalize(test_samples)"
      ],
      "metadata": {
        "id": "9WEAhkNHD4lf"
      },
      "execution_count": 9,
      "outputs": []
    },
    {
      "cell_type": "code",
      "source": [
        "# to check if train_samples is normalized or not\n",
        "np.isclose(np.amax(train_samples), 1)"
      ],
      "metadata": {
        "colab": {
          "base_uri": "https://localhost:8080/"
        },
        "id": "8KnOl5WVD73v",
        "outputId": "c210256e-4976-41ab-ba18-9cbbde984c01"
      },
      "execution_count": 10,
      "outputs": [
        {
          "output_type": "execute_result",
          "data": {
            "text/plain": [
              "True"
            ]
          },
          "metadata": {},
          "execution_count": 10
        }
      ]
    },
    {
      "cell_type": "code",
      "source": [
        "# We need to reshape our train_data to be of shape (samples, height, width, channels) pass to Conv2D layer of keras\n",
        "\n",
        "def reshape(x):\n",
        "\n",
        "\n",
        "    x_r=x.reshape(x.shape[0],x.shape[1],x.shape[2],1)\n",
        "    return x_r\n",
        "\n",
        "train_samples = reshape(train_samples)\n",
        "test_samples = reshape(test_samples)"
      ],
      "metadata": {
        "id": "9r8CsEeCD_RS"
      },
      "execution_count": 11,
      "outputs": []
    },
    {
      "cell_type": "code",
      "source": [
        "def oneHot(y, Ny):\n",
        "\n",
        "    import tensorflow\n",
        "    from keras.utils import to_categorical\n",
        "    Ny=len(np.unique(y))\n",
        "    y_oh=to_categorical(y,num_classes=Ny)\n",
        "    return y_oh\n",
        "\n",
        "# example\n",
        "train_labels = oneHot(train_labels, 10)\n",
        "test_labels = oneHot(test_labels, 10)"
      ],
      "metadata": {
        "id": "maulJz9WECjU"
      },
      "execution_count": 12,
      "outputs": []
    },
    {
      "cell_type": "code",
      "source": [
        "from keras.models import Sequential\n",
        "from keras.layers import Dense, Conv2D, Flatten\n",
        "\n",
        "model = Sequential()\n",
        "model.add(Conv2D(64, kernel_size=3, activation='relu', input_shape=(28,28,1)))\n",
        "model.add(Conv2D(32, kernel_size=3, activation='relu'))\n",
        "model.add(Flatten())\n",
        "model.add(Dense(10, activation='softmax'))"
      ],
      "metadata": {
        "id": "6FeqimqyEGZp"
      },
      "execution_count": 13,
      "outputs": []
    },
    {
      "cell_type": "code",
      "source": [
        "model.compile(loss='categorical_crossentropy', optimizer='adam', metrics=['accuracy'])\n",
        "model.summary()"
      ],
      "metadata": {
        "colab": {
          "base_uri": "https://localhost:8080/"
        },
        "id": "HokFQtN0EJ97",
        "outputId": "8ffa1640-9461-43d5-a4ec-dfb588b64644"
      },
      "execution_count": 14,
      "outputs": [
        {
          "output_type": "stream",
          "name": "stdout",
          "text": [
            "Model: \"sequential\"\n",
            "_________________________________________________________________\n",
            " Layer (type)                Output Shape              Param #   \n",
            "=================================================================\n",
            " conv2d (Conv2D)             (None, 26, 26, 64)        640       \n",
            "                                                                 \n",
            " conv2d_1 (Conv2D)           (None, 24, 24, 32)        18464     \n",
            "                                                                 \n",
            " flatten (Flatten)           (None, 18432)             0         \n",
            "                                                                 \n",
            " dense (Dense)               (None, 10)                184330    \n",
            "                                                                 \n",
            "=================================================================\n",
            "Total params: 203,434\n",
            "Trainable params: 203,434\n",
            "Non-trainable params: 0\n",
            "_________________________________________________________________\n"
          ]
        }
      ]
    },
    {
      "cell_type": "code",
      "source": [
        "results = model.fit(train_samples, train_labels, validation_split = 0.1, epochs=4, batch_size=250)"
      ],
      "metadata": {
        "colab": {
          "base_uri": "https://localhost:8080/"
        },
        "id": "hi0Eni56EORN",
        "outputId": "f1b5469a-19dd-4304-dd2e-598039493e1e"
      },
      "execution_count": 15,
      "outputs": [
        {
          "output_type": "stream",
          "name": "stdout",
          "text": [
            "Epoch 1/4\n",
            "216/216 [==============================] - 133s 607ms/step - loss: 0.2657 - accuracy: 0.9242 - val_loss: 0.0784 - val_accuracy: 0.9775\n",
            "Epoch 2/4\n",
            "216/216 [==============================] - 131s 606ms/step - loss: 0.0683 - accuracy: 0.9795 - val_loss: 0.0580 - val_accuracy: 0.9858\n",
            "Epoch 3/4\n",
            "216/216 [==============================] - 119s 549ms/step - loss: 0.0492 - accuracy: 0.9851 - val_loss: 0.0506 - val_accuracy: 0.9868\n",
            "Epoch 4/4\n",
            "216/216 [==============================] - 117s 540ms/step - loss: 0.0371 - accuracy: 0.9883 - val_loss: 0.0497 - val_accuracy: 0.9880\n"
          ]
        }
      ]
    },
    {
      "cell_type": "code",
      "source": [
        "results.history.keys()\n",
        "import matplotlib.pyplot as plt\n",
        "plt.plot(range(len(results.history['val_loss'])), results.history['val_loss'])\n",
        "plt.show()"
      ],
      "metadata": {
        "colab": {
          "base_uri": "https://localhost:8080/",
          "height": 430
        },
        "id": "7rwxv3vWESR2",
        "outputId": "3184fc5a-81ce-4162-98a7-031fa838363b"
      },
      "execution_count": 16,
      "outputs": [
        {
          "output_type": "display_data",
          "data": {
            "text/plain": [
              "<Figure size 640x480 with 1 Axes>"
            ],
            "image/png": "[encoded data removed]"
          },
          "metadata": {}
        }
      ]
    },
    {
      "cell_type": "code",
      "source": [
        "plot = pd.DataFrame()\n",
        "plot['Validation Accuracy'] = model.history.history['val_accuracy']\n",
        "plot['Training Accuracy'] = model.history.history['accuracy']\n",
        "plot['Validation Loss'] = model.history.history['val_loss']\n",
        "plot['Training Loss'] = model.history.history['loss']\n",
        "plot['Epoch'] = plot.reset_index()['index']+1\n",
        "plot"
      ],
      "metadata": {
        "colab": {
          "base_uri": "https://localhost:8080/",
          "height": 174
        },
        "id": "cyF46NyGEWG3",
        "outputId": "03f71a74-368f-416d-cf6d-04b88f57d9c1"
      },
      "execution_count": 17,
      "outputs": [
        {
          "output_type": "execute_result",
          "data": {
            "text/plain": [
              "   Validation Accuracy  Training Accuracy  Validation Loss  Training Loss  \\\n",
              "0             0.977500           0.924167         0.078425       0.265692   \n",
              "1             0.985833           0.979519         0.057962       0.068272   \n",
              "2             0.986833           0.985130         0.050625       0.049224   \n",
              "3             0.988000           0.988333         0.049709       0.037096   \n",
              "\n",
              "   Epoch  \n",
              "0      1  \n",
              "1      2  \n",
              "2      3  \n",
              "3      4  "
            ],
            "text/html": [
              "\n",
              "\n",
              "  <div id=\"df-abdd4604-7867-41f5-ab24-4e4a5ca2a72a\">\n",
              "    <div class=\"colab-df-container\">\n",
              "      <div>\n",
              "<style scoped>\n",
              "    .dataframe tbody tr th:only-of-type {\n",
              "        vertical-align: middle;\n",
              "    }\n",
              "\n",
              "    .dataframe tbody tr th {\n",
              "        vertical-align: top;\n",
              "    }\n",
              "\n",
              "    .dataframe thead th {\n",
              "        text-align: right;\n",
              "    }\n",
              "</style>\n",
              "<table border=\"1\" class=\"dataframe\">\n",
              "  <thead>\n",
              "    <tr style=\"text-align: right;\">\n",
              "      <th></th>\n",
              "      <th>Validation Accuracy</th>\n",
              "      <th>Training Accuracy</th>\n",
              "      <th>Validation Loss</th>\n",
              "      <th>Training Loss</th>\n",
              "      <th>Epoch</th>\n",
              "    </tr>\n",
              "  </thead>\n",
              "  <tbody>\n",
              "    <tr>\n",
              "      <th>0</th>\n",
              "      <td>0.977500</td>\n",
              "      <td>0.924167</td>\n",
              "      <td>0.078425</td>\n",
              "      <td>0.265692</td>\n",
              "      <td>1</td>\n",
              "    </tr>\n",
              "    <tr>\n",
              "      <th>1</th>\n",
              "      <td>0.985833</td>\n",
              "      <td>0.979519</td>\n",
              "      <td>0.057962</td>\n",
              "      <td>0.068272</td>\n",
              "      <td>2</td>\n",
              "    </tr>\n",
              "    <tr>\n",
              "      <th>2</th>\n",
              "      <td>0.986833</td>\n",
              "      <td>0.985130</td>\n",
              "      <td>0.050625</td>\n",
              "      <td>0.049224</td>\n",
              "      <td>3</td>\n",
              "    </tr>\n",
              "    <tr>\n",
              "      <th>3</th>\n",
              "      <td>0.988000</td>\n",
              "      <td>0.988333</td>\n",
              "      <td>0.049709</td>\n",
              "      <td>0.037096</td>\n",
              "      <td>4</td>\n",
              "    </tr>\n",
              "  </tbody>\n",
              "</table>\n",
              "</div>\n",
              "      <button class=\"colab-df-convert\" onclick=\"convertToInteractive('df-abdd4604-7867-41f5-ab24-4e4a5ca2a72a')\"\n",
              "              title=\"Convert this dataframe to an interactive table.\"\n",
              "              style=\"display:none;\">\n",
              "\n",
              "  <svg xmlns=\"http://www.w3.org/2000/svg\" height=\"24px\"viewBox=\"0 0 24 24\"\n",
              "       width=\"24px\">\n",
              "    <path d=\"M0 0h24v24H0V0z\" fill=\"none\"/>\n",
              "    <path d=\"M18.56 5.44l.94 2.06.94-2.06 2.06-.94-2.06-.94-.94-2.06-.94 2.06-2.06.94zm-11 1L8.5 8.5l.94-2.06 2.06-.94-2.06-.94L8.5 2.5l-.94 2.06-2.06.94zm10 10l.94 2.06.94-2.06 2.06-.94-2.06-.94-.94-2.06-.94 2.06-2.06.94z\"/><path d=\"M17.41 7.96l-1.37-1.37c-.4-.4-.92-.59-1.43-.59-.52 0-1.04.2-1.43.59L10.3 9.45l-7.72 7.72c-.78.78-.78 2.05 0 2.83L4 21.41c.39.39.9.59 1.41.59.51 0 1.02-.2 1.41-.59l7.78-7.78 2.81-2.81c.8-.78.8-2.07 0-2.86zM5.41 20L4 18.59l7.72-7.72 1.47 1.35L5.41 20z\"/>\n",
              "  </svg>\n",
              "      </button>\n",
              "\n",
              "\n",
              "\n",
              "    <div id=\"df-9455d4dc-2bc5-44a7-a9e9-6d0dad96154b\">\n",
              "      <button class=\"colab-df-quickchart\" onclick=\"quickchart('df-9455d4dc-2bc5-44a7-a9e9-6d0dad96154b')\"\n",
              "              title=\"Suggest charts.\"\n",
              "              style=\"display:none;\">\n",
              "\n",
              "<svg xmlns=\"http://www.w3.org/2000/svg\" height=\"24px\"viewBox=\"0 0 24 24\"\n",
              "     width=\"24px\">\n",
              "    <g>\n",
              "        <path d=\"M19 3H5c-1.1 0-2 .9-2 2v14c0 1.1.9 2 2 2h14c1.1 0 2-.9 2-2V5c0-1.1-.9-2-2-2zM9 17H7v-7h2v7zm4 0h-2V7h2v10zm4 0h-2v-4h2v4z\"/>\n",
              "    </g>\n",
              "</svg>\n",
              "      </button>\n",
              "    </div>\n",
              "\n",
              "<style>\n",
              "  .colab-df-quickchart {\n",
              "    background-color: #E8F0FE;\n",
              "    border: none;\n",
              "    border-radius: 50%;\n",
              "    cursor: pointer;\n",
              "    display: none;\n",
              "    fill: #1967D2;\n",
              "    height: 32px;\n",
              "    padding: 0 0 0 0;\n",
              "    width: 32px;\n",
              "  }\n",
              "\n",
              "  .colab-df-quickchart:hover {\n",
              "    background-color: #E2EBFA;\n",
              "    box-shadow: 0px 1px 2px rgba(60, 64, 67, 0.3), 0px 1px 3px 1px rgba(60, 64, 67, 0.15);\n",
              "    fill: #174EA6;\n",
              "  }\n",
              "\n",
              "  [theme=dark] .colab-df-quickchart {\n",
              "    background-color: #3B4455;\n",
              "    fill: #D2E3FC;\n",
              "  }\n",
              "\n",
              "  [theme=dark] .colab-df-quickchart:hover {\n",
              "    background-color: #434B5C;\n",
              "    box-shadow: 0px 1px 3px 1px rgba(0, 0, 0, 0.15);\n",
              "    filter: drop-shadow(0px 1px 2px rgba(0, 0, 0, 0.3));\n",
              "    fill: #FFFFFF;\n",
              "  }\n",
              "</style>\n",
              "\n",
              "    <script>\n",
              "      async function quickchart(key) {\n",
              "        const containerElement = document.querySelector('#' + key);\n",
              "        const charts = await google.colab.kernel.invokeFunction(\n",
              "            'suggestCharts', [key], {});\n",
              "      }\n",
              "    </script>\n",
              "\n",
              "      <script>\n",
              "\n",
              "function displayQuickchartButton(domScope) {\n",
              "  let quickchartButtonEl =\n",
              "    domScope.querySelector('#df-9455d4dc-2bc5-44a7-a9e9-6d0dad96154b button.colab-df-quickchart');\n",
              "  quickchartButtonEl.style.display =\n",
              "    google.colab.kernel.accessAllowed ? 'block' : 'none';\n",
              "}\n",
              "\n",
              "        displayQuickchartButton(document);\n",
              "      </script>\n",
              "      <style>\n",
              "    .colab-df-container {\n",
              "      display:flex;\n",
              "      flex-wrap:wrap;\n",
              "      gap: 12px;\n",
              "    }\n",
              "\n",
              "    .colab-df-convert {\n",
              "      background-color: #E8F0FE;\n",
              "      border: none;\n",
              "      border-radius: 50%;\n",
              "      cursor: pointer;\n",
              "      display: none;\n",
              "      fill: #1967D2;\n",
              "      height: 32px;\n",
              "      padding: 0 0 0 0;\n",
              "      width: 32px;\n",
              "    }\n",
              "\n",
              "    .colab-df-convert:hover {\n",
              "      background-color: #E2EBFA;\n",
              "      box-shadow: 0px 1px 2px rgba(60, 64, 67, 0.3), 0px 1px 3px 1px rgba(60, 64, 67, 0.15);\n",
              "      fill: #174EA6;\n",
              "    }\n",
              "\n",
              "    [theme=dark] .colab-df-convert {\n",
              "      background-color: #3B4455;\n",
              "      fill: #D2E3FC;\n",
              "    }\n",
              "\n",
              "    [theme=dark] .colab-df-convert:hover {\n",
              "      background-color: #434B5C;\n",
              "      box-shadow: 0px 1px 3px 1px rgba(0, 0, 0, 0.15);\n",
              "      filter: drop-shadow(0px 1px 2px rgba(0, 0, 0, 0.3));\n",
              "      fill: #FFFFFF;\n",
              "    }\n",
              "  </style>\n",
              "\n",
              "      <script>\n",
              "        const buttonEl =\n",
              "          document.querySelector('#df-abdd4604-7867-41f5-ab24-4e4a5ca2a72a button.colab-df-convert');\n",
              "        buttonEl.style.display =\n",
              "          google.colab.kernel.accessAllowed ? 'block' : 'none';\n",
              "\n",
              "        async function convertToInteractive(key) {\n",
              "          const element = document.querySelector('#df-abdd4604-7867-41f5-ab24-4e4a5ca2a72a');\n",
              "          const dataTable =\n",
              "            await google.colab.kernel.invokeFunction('convertToInteractive',\n",
              "                                                     [key], {});\n",
              "          if (!dataTable) return;\n",
              "\n",
              "          const docLinkHtml = 'Like what you see? Visit the ' +\n",
              "            '<a target=\"_blank\" href=https://colab.research.google.com/notebooks/data_table.ipynb>data table notebook</a>'\n",
              "            + ' to learn more about interactive tables.';\n",
              "          element.innerHTML = '';\n",
              "          dataTable['output_type'] = 'display_data';\n",
              "          await google.colab.output.renderOutput(dataTable, element);\n",
              "          const docLink = document.createElement('div');\n",
              "          docLink.innerHTML = docLinkHtml;\n",
              "          element.appendChild(docLink);\n",
              "        }\n",
              "      </script>\n",
              "    </div>\n",
              "  </div>\n"
            ]
          },
          "metadata": {},
          "execution_count": 17
        }
      ]
    },
    {
      "cell_type": "code",
      "source": [
        "def predict(x):\n",
        "    y = model.predict(x)\n",
        "    return y\n",
        "\n",
        "predicted_labels_train = predict(train_samples)"
      ],
      "metadata": {
        "colab": {
          "base_uri": "https://localhost:8080/"
        },
        "id": "Kz73QdwSEn1q",
        "outputId": "2aab942f-06eb-4982-8da0-5f753f2d4130"
      },
      "execution_count": 18,
      "outputs": [
        {
          "output_type": "stream",
          "name": "stdout",
          "text": [
            "1875/1875 [==============================] - 32s 17ms/step\n"
          ]
        }
      ]
    },
    {
      "cell_type": "code",
      "source": [
        "def oneHot_tolabel(y):\n",
        "\n",
        "    y_b=[]\n",
        "    from sklearn.preprocessing import LabelEncoder\n",
        "    labelencoder = LabelEncoder()\n",
        "    y_b[:, 0] = labelencoder.fit_transform(y_b[:, 0])\n",
        "    return y_b\n",
        ""
      ],
      "metadata": {
        "id": "9YVWzm6jErjT"
      },
      "execution_count": 19,
      "outputs": []
    },
    {
      "cell_type": "code",
      "source": [
        "def accuracy(x_train, y_train, model):\n",
        "\n",
        "    loss,acc = model.evaluate(train_samples, train_labels,verbose=0)\n",
        "    return acc\n",
        "\n",
        "acc = accuracy(train_samples, train_labels, model)\n",
        "print('Train accuracy is, ', acc*100, '%')"
      ],
      "metadata": {
        "colab": {
          "base_uri": "https://localhost:8080/"
        },
        "id": "yNTCZx3ZEy5z",
        "outputId": "88ee8581-9d36-4eaf-ef27-d20fc1bb34a9"
      },
      "execution_count": 20,
      "outputs": [
        {
          "output_type": "stream",
          "name": "stdout",
          "text": [
            "Train accuracy is,  99.29166436195374 %\n"
          ]
        }
      ]
    },
    {
      "cell_type": "code",
      "source": [
        "def create_confusion_matrix(true_labels, predicted_labels):\n",
        "\n",
        "    from sklearn.metrics import confusion_matrix\n",
        "    cm = confusion_matrix(true_labels.argmax(axis=1), predicted_labels.argmax(axis=1))\n",
        "    return cm\n",
        "\n",
        "cm = create_confusion_matrix((train_labels), (predict(train_samples)))\n",
        "print(cm)"
      ],
      "metadata": {
        "colab": {
          "base_uri": "https://localhost:8080/"
        },
        "id": "ADEjW8I0E56n",
        "outputId": "3ebc4b18-d17e-4bf7-f5a1-0d0c0d674959"
      },
      "execution_count": 21,
      "outputs": [
        {
          "output_type": "stream",
          "name": "stdout",
          "text": [
            "1875/1875 [==============================] - 31s 16ms/step\n",
            "[[5913    0    2    1    0    1    2    1    1    2]\n",
            " [   0 6717    4    1    3    0    4   13    0    0]\n",
            " [   4    8 5917    5    2    0    0   17    2    3]\n",
            " [   1    0   10 6098    0    9    0    7    4    2]\n",
            " [   1   10    3    0 5808    0    2    3    3   12]\n",
            " [   5    2    0   18    1 5375    7    1    9    3]\n",
            " [   4    7    0    0    1    5 5901    0    0    0]\n",
            " [   0    4    5   14    5    0    0 6230    5    2]\n",
            " [  13   12   10    4    6   13   11    4 5766   12]\n",
            " [   7    4    2   10   27    6    0   34    9 5850]]\n"
          ]
        }
      ]
    },
    {
      "cell_type": "code",
      "source": [
        "def accuracy(x_test, y_test, model):\n",
        "\n",
        "    loss,acc = model.evaluate(test_samples, test_labels,verbose=0)\n",
        "    return acc\n",
        "\n",
        "acc = accuracy(test_samples, test_labels, model)\n",
        "print('Test accuracy is, ', acc*100, '%')"
      ],
      "metadata": {
        "colab": {
          "base_uri": "https://localhost:8080/"
        },
        "id": "_tLd0NmYE9Ve",
        "outputId": "2a9695a6-a67a-466c-e1ec-f50321b70f2e"
      },
      "execution_count": 22,
      "outputs": [
        {
          "output_type": "stream",
          "name": "stdout",
          "text": [
            "Test accuracy is,  98.65000247955322 %\n"
          ]
        }
      ]
    },
    {
      "cell_type": "code",
      "source": [
        "# Final evaluation of the model\n",
        "scores = model.evaluate(test_samples, test_labels, verbose=0)\n",
        "print(\"CNN Error: %.2f%%\" % (100-scores[1]*100))"
      ],
      "metadata": {
        "colab": {
          "base_uri": "https://localhost:8080/"
        },
        "id": "XWgROneMFAeJ",
        "outputId": "3bc18637-d637-47c5-b266-fb741e7fe1a4"
      },
      "execution_count": 23,
      "outputs": [
        {
          "output_type": "stream",
          "name": "stdout",
          "text": [
            "CNN Error: 1.35%\n"
          ]
        }
      ]
    },
    {
      "cell_type": "code",
      "source": [],
      "metadata": {
        "id": "6gWbh19AFDdg"
      },
      "execution_count": null,
      "outputs": []
    }
  ]
}